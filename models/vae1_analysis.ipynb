{
 "cells": [
  {
   "cell_type": "code",
   "execution_count": 1,
   "id": "1b693cb6",
   "metadata": {},
   "outputs": [
    {
     "name": "stderr",
     "output_type": "stream",
     "text": [
      "2025-07-21 13:10:19.473776: I tensorflow/core/platform/cpu_feature_guard.cc:182] This TensorFlow binary is optimized to use available CPU instructions in performance-critical operations.\n",
      "To enable the following instructions: AVX2 FMA, in other operations, rebuild TensorFlow with the appropriate compiler flags.\n",
      "2025-07-21 13:10:21.150203: W tensorflow/compiler/tf2tensorrt/utils/py_utils.cc:38] TF-TRT Warning: Could not find TensorRT\n"
     ]
    }
   ],
   "source": [
    "import numpy as np\n",
    "import matplotlib.pyplot as plt\n",
    "import os\n",
    "os.environ[\"HDF5_USE_FILE_LOCKING\"] = \"FALSE\" # on NERSC filelocking is not allowed\n",
    "import h5py\n",
    "import tensorflow as tf\n",
    "# Make notebook run on other GPUS. GPT's solution ~~~~~~~~~~~~~~~~~~~~~~~~~~~~~~\n",
    "# gpus = tf.config.list_physical_devices('GPU')\n",
    "# tf.config.set_visible_devices(gpus[2], 'GPU')  # change 1 to 0, 2, 3 as needed\n",
    "# ~~~~~~~~~~~~~~~~~~~~~~~~~~~~~~~~~~~~~~~~~~~~~~~~~~~~~~~~~~~~~~~~~~~~~~~~~~~~~~\n",
    "import tensorflow.keras as keras\n",
    "from sklearn.metrics import roc_curve, auc\n",
    "import sklearn.metrics as sk\n",
    "\n",
    "\n",
    "import sys\n",
    "# Path to dir model.py lives in -------\n",
    "# NOTE: This needs to be modified to where your repo lives, path to /repo/path/VAE_FS/models/\n",
    "# If the jupyter notebook kernel is running from VAE_FS/models/ the\n",
    "# line below is not needed\n",
    "sys.path.append('/global/homes/j/jananinf/projs/VAE_FS/models/')\n",
    "\n",
    "# import the custom models and functions\n",
    "from models import Qmake_encoder_set_weights, Qmake_decoder_set_weights\n",
    "from models import VAE_Model_ATLAS_beta as NNmodel"
   ]
  },
  {
   "cell_type": "code",
   "execution_count": 2,
   "id": "1368fdfa",
   "metadata": {},
   "outputs": [],
   "source": [
    "def AD_score_KL(z_mean, z_log_var):\n",
    "    kl_loss = np.mean(-0.5 * (1 + z_log_var - (z_mean) ** 2 - np.exp(z_log_var)))\n",
    "    # Comparing this to eq 2 in arXiv: 2108.03986 z_log_var = log(sigma**2)\n",
    "    return kl_loss\n",
    "\n",
    "\n",
    "def AD_score_CKL(z_mean, _): # z_log_var not used\n",
    "    CKL = np.mean(z_mean**2)\n",
    "    return CKL \n",
    "\n",
    "def AD_score_Rz(z_mean, z_log_var):\n",
    "    return z_mean**2/np.exp(z_log_var)\n",
    "\n",
    "def calc_anomaly_scores(data, encoder: keras.Model, AD_metric, debug = True):\n",
    "    \"\"\"\n",
    "    Parameters:\n",
    "    -----------\n",
    "    debug: Optional bool to skip latent space vectors that produce infinities.\n",
    "    Currently set to true as it seems only 2 specific cases are affected\n",
    "    \"\"\"\n",
    "    dat_encoded = np.array(encoder.predict(data))[0] # This outputs shape (3, len(X_test), 3). Can't find satisfactory explanation for this behavior. (len(X_test), 3) makes sense. (3, len, 3) does not\n",
    "    # Kenny only uses the first list so we'll follow that convention.\n",
    "    # has shape (len(data), 3), where col 1 is z_mean, 2 is z_log_var and z. This is by design of encoder.\n",
    "    scores = np.zeros(len(data))\n",
    "    bad_model = False\n",
    "    for i in range(len(scores)):\n",
    "        z_mean, z_log_var = dat_encoded[i][0], dat_encoded[i][1]\n",
    "        score = AD_metric(z_mean, z_log_var)\n",
    "        if debug and (score == np.inf):\n",
    "            print(\"Unstable model: inf encountered. Rejecting Model\"\n",
    "                  + f\"z_mean: {z_mean}\\n\"\n",
    "                  + f\"z_log_var: {z_log_var}\")\n",
    "            \n",
    "            bad_model = True\n",
    "            break\n",
    "        scores[i] = score\n",
    "\n",
    "    return (scores, bad_model)"
   ]
  },
  {
   "cell_type": "code",
   "execution_count": 3,
   "id": "f9774118",
   "metadata": {},
   "outputs": [
    {
     "name": "stdout",
     "output_type": "stream",
     "text": [
      "Data loaded from preprocessed_SNL_data.h5\n"
     ]
    }
   ],
   "source": [
    "# Load data\n",
    "home_path = \"/global/cfs/cdirs/m2616/jananinf/projsIO/VAE_FS/\" # Updated to NERSC\n",
    "file_path = home_path + \"preprocessed_SNL_data.h5\"\n",
    "with h5py.File(file_path, 'r') as hf:           # Shapes:\n",
    "    X_train = hf['X_train'][:]                  # (3200000, 57)\n",
    "    X_test  = hf['X_test'][:]                   # (800000,  57)\n",
    "    Ato4l_data  = hf['Ato4l_data'][:]           # (55969,   57) Signal data? \n",
    "    hToTauTau_data  = hf['hToTauTau_data'][:]   # (691283,  57)\n",
    "    hChToTauNu_data  = hf['hChToTauNu_data'][:] # (760272,  57)\n",
    "    leptoquark_data = hf['leptoquark_data'][:]  # (340544,  57)\n",
    "    print(\"Data loaded from preprocessed_SNL_data.h5\")\n",
    "\n",
    "    # Change to what the paper is doing. Only standardized p_t"
   ]
  },
  {
   "cell_type": "markdown",
   "id": "d161259d",
   "metadata": {},
   "source": [
    "##### Calculate Anamoly scores"
   ]
  },
  {
   "cell_type": "code",
   "execution_count": 4,
   "id": "e1addc45",
   "metadata": {},
   "outputs": [],
   "source": [
    "def get_truth_and_scores(encoder, AD_metric, debug=True):\n",
    "    bg_score, bad_model = calc_anomaly_scores(X_test, encoder, AD_metric)\n",
    "    scores = []\n",
    "    truths = []\n",
    "    zeros = np.zeros(len(X_test))\n",
    "    signal_data = [leptoquark_data, Ato4l_data, hChToTauNu_data, hToTauTau_data]\n",
    "\n",
    "    # Generate Truth and score lists ready for ROC curve calculation\n",
    "    if not(bad_model):\n",
    "        for dat in signal_data:\n",
    "            truths.append(np.concatenate((zeros, np.ones(len(dat)))))\n",
    "\n",
    "            s, _ = calc_anomaly_scores(dat, encoder, AD_metric, debug=debug)\n",
    "            scores.append(np.concatenate((bg_score,s) ))\n",
    "\n",
    "    return (truths, scores, bad_model)"
   ]
  },
  {
   "cell_type": "code",
   "execution_count": 5,
   "id": "c19a9dbe",
   "metadata": {},
   "outputs": [],
   "source": [
    "def plot_rocs(truths, scores, fig_title):\n",
    "    target_fpr = 1e-5\n",
    "    tpr_at_target = []\n",
    "    signal_names_tex = [ # latex version\n",
    "                    \"Leptoquark\"\n",
    "                    , \"$A\\\\rightarrow 4\\ell$\"\n",
    "                    , \"$h^{\\pm}\\\\rightarrow\\\\tau \\\\nu$\"\n",
    "                    , \"$h^0\\\\rightarrow\\\\tau\\\\tau$\"\n",
    "                    ]\n",
    "    signal_names_hum = [ # human readable\n",
    "                    \"Leptoquark\"\n",
    "                    ,\"A to 4L\"\n",
    "                    , \"h to Tau Nu\"\n",
    "                    , \"h to Tau Tau\"\n",
    "                    ]\n",
    "    fig, ax = plt.subplots()\n",
    "\n",
    "    thresholds_at_target = []\n",
    "    for truth, score, l in zip(truths, scores, signal_names_tex):\n",
    "        fpr, tpr, thresholds = roc_curve(truth, score)\n",
    "        auc = sk.roc_auc_score(truth, score)\n",
    "        ax.plot(fpr, tpr, label=l + f\": {str(round(auc, 3))}\") # plot roc curve\n",
    "\n",
    "\n",
    "        # Find tpr at fpr target\n",
    "        idx = np.argmin(np.abs(fpr - target_fpr))\n",
    "        tpr_at_target.append(tpr[idx])\n",
    "        thresholds_at_target.append(thresholds[idx])\n",
    "\n",
    "    ax.plot(np.linspace(0, 1, 1000), np.linspace(0, 1, 1000), \"--\")\n",
    "    ax.vlines(10**-5, 0, 1, colors=\"r\", linestyles=\"dashed\")\n",
    "\n",
    "    # Plot teaks\n",
    "    ax.loglog()\n",
    "    ax.legend()\n",
    "    ax.grid()\n",
    "    ax.set_xlabel(\"fpr\")\n",
    "    ax.set_ylabel(\"tpr\")\n",
    "    ax.set_title(fig_title) \n",
    "    plt.show()\n",
    "\n",
    "    for i in range(len(signal_names_hum)):\n",
    "        print(signal_names_hum[i] + \" TPR @ FPR 10e-5 (%): \" + f\"{tpr_at_target[i]*100:.2f}\\n\" + f\"Target Threshold {thresholds_at_target[i]}\")\n",
    "\n",
    "    return fig\n",
    "\n"
   ]
  },
  {
   "cell_type": "code",
   "execution_count": 6,
   "id": "e7487486",
   "metadata": {},
   "outputs": [],
   "source": [
    "INPUT_SZ = 57\n",
    "H1_SZ = 32\n",
    "H2_SZ = 16\n",
    "LATENT_SZ = 3\n",
    "NUM_TRAIN = 20 # number of trained models\n",
    "\n",
    "SAVE_PATH = home_path+f\"/VAE_trainings/attempt2/atlas_beta/\" # As of 7/10/25. should be synced with vae0_analysis\n",
    "bad_models = []\n",
    "SAVE_FIG = True\n",
    "FILE_NAMES = \"CKL\"\n",
    "FIG_SAVE_PATH = SAVE_PATH + \"plots/\"\n",
    "AD_metric = AD_score_CKL # DKL is done.\n",
    "\n",
    "\n",
    "# for i in range(NUM_TRAIN):\n",
    "#     new_enc = Qmake_encoder_set_weights(INPUT_SZ, H1_SZ, H2_SZ, LATENT_SZ)\n",
    "#     new_dec = Qmake_decoder_set_weights(INPUT_SZ, H1_SZ, H2_SZ, LATENT_SZ)\n",
    "#     new_VAE = NNmodel(new_enc, new_dec)\n",
    "#     save_path = SAVE_PATH + f\"n_{i}/\"\n",
    "\n",
    "#     new_VAE.load_weights(save_path)\n",
    "\n",
    "#     just_enc = new_VAE.get_layer(\"encoder\") # We only need encoder output\n",
    "#     t, s, bad_model = get_truth_and_scores(just_enc, AD_metric)\n",
    "#     if bad_model:\n",
    "#         print(f\"Unstable mode. Inf encountered. Model number {i} \")\n",
    "#         bad_models.append(i)\n",
    "#     else:\n",
    "#         f = plot_rocs(t, s, \"ROC Curves using CKL as Anomaly Score. Model number: \" + str(i))\n",
    "\n",
    "#         if SAVE_FIG:\n",
    "#             f.savefig(FIG_SAVE_PATH + FILE_NAMES + f\"_iter_{i}.png\")\n",
    "\n",
    "# # Manuall saving bad models numbers for CKL cause apparently it didn't work\n",
    "# # 1,3,4,7,10,12,13,18,19"
   ]
  },
  {
   "cell_type": "markdown",
   "id": "ceae308f",
   "metadata": {},
   "source": [
    "After inspecting the graphs a few notable models remain"
   ]
  },
  {
   "cell_type": "code",
   "execution_count": 7,
   "id": "0385b1cd",
   "metadata": {},
   "outputs": [],
   "source": [
    "import pickle as pkl\n",
    "\n",
    "SAVE_FIG = False\n",
    "noteable_models_iter = [\n",
    "                        # 0,\n",
    "                        # 9,\n",
    "                        # 14,\n",
    "                        16 # best when considering DKL\n",
    "                        # 17\n",
    "                        ] # mins 88, 90, 89, 79 for AUC. \n",
    "# # 16 did the best AUC and I think also has higher TPR @ target FPR\n",
    "AD_metric = AD_score_CKL\n",
    "\n",
    "# for i in noteable_models_iter:\n",
    "\n",
    "#     # Reload the Encoder ------\n",
    "#     # for i in range(NUM_TRAIN):\n",
    "#     new_enc = Qmake_encoder_set_weights(INPUT_SZ, H1_SZ, H2_SZ, LATENT_SZ)\n",
    "#     new_dec = Qmake_decoder_set_weights(INPUT_SZ, H1_SZ, H2_SZ, LATENT_SZ)\n",
    "#     new_VAE = NNmodel(new_enc, new_dec)\n",
    "#     save_path = SAVE_PATH + f\"n_{i}/\"\n",
    "\n",
    "#     new_VAE.load_weights(save_path)\n",
    "\n",
    "#     just_enc = new_VAE.get_layer(\"encoder\") # We only need encoder output\n",
    "#     # ------\n",
    "\n",
    "#     # Plot ROC curves and optionally save -----\n",
    "#     t, s, bad_model = get_truth_and_scores(just_enc, AD_metric)\n",
    "\n",
    "#     if bad_model:\n",
    "#         print(f\"Unstable mode. Inf encountered. Model number {i} \")\n",
    "#         bad_models.append(i)\n",
    "#         continue\n",
    "\n",
    "\n",
    "#     f = plot_rocs(t, s, \"ROC Curves using $D_{KL}$ as Anomaly Score. Model number: \" + str(i))\n",
    "\n",
    "#     if SAVE_FIG:\n",
    "#         f.savefig(FIG_SAVE_PATH + FILE_NAMES + f\"_iter_{i}.png\")\n",
    "#     # ------\n",
    "\n",
    "#     # Reload history and plot loss curves ------\n",
    "#     save_path = SAVE_PATH + f\"n_{i}/\"\n",
    "#     with open(save_path + 'training_history.pkl', 'rb') as f:\n",
    "#         history = pkl.load(f)\n",
    "#     # Extract the loss values\n",
    "#     total_loss = history['loss']\n",
    "#     reco_loss = history['reconstruction_loss']\n",
    "#     kl_loss = history['kl_loss']\n",
    "#     val_total_loss = history['val_loss']\n",
    "#     val_reco_loss = history['val_reconstruction_loss']\n",
    "#     val_kl_loss = history['val_kl_loss']\n",
    "\n",
    "#     # Create a new figure\n",
    "#     plt.figure(figsize=(12, 8))\n",
    "\n",
    "#     # Plot training losses\n",
    "#     plt.plot(total_loss, label='Total Loss', color='blue')\n",
    "#     plt.plot(reco_loss, label='Reconstruction Loss', color='green')\n",
    "#     plt.plot(kl_loss, label='KL Loss', color='red')\n",
    "#     plt.plot(history['beta'],label=\"beta\")\n",
    "\n",
    "#     # Plot validation losses\n",
    "#     plt.plot(val_total_loss, label='Val Total Loss', color='blue', linestyle='--')\n",
    "#     plt.plot(val_reco_loss, label='Val Reconstruction Loss', color='green', linestyle='--')\n",
    "#     plt.plot(val_kl_loss, label='Val KL Loss', color='red', linestyle='--')\n",
    "\n",
    "#     # Customize the plot\n",
    "#     plt.title(f'Training and Validation Losses Run: {i}')\n",
    "#     plt.xlabel('Epoch')\n",
    "#     plt.ylabel('Loss')\n",
    "#     plt.yscale(\"log\")\n",
    "#     plt.legend()\n",
    "#     plt.grid(True)\n",
    "\n",
    "#     # Show the plot\n",
    "#     plt.show()\n",
    "#     # -----\n",
    "\n",
    "#     # Plot Anomaly score distribution -----\n"
   ]
  },
  {
   "cell_type": "markdown",
   "id": "1f4f7cd8",
   "metadata": {},
   "source": [
    "Anamoly Score Distribution"
   ]
  },
  {
   "cell_type": "code",
   "execution_count": 8,
   "id": "53c902fd",
   "metadata": {},
   "outputs": [],
   "source": [
    "def calc_anomaly_dist(data, encoder: keras.Model, AD_metric):\n",
    "    \"\"\"\n",
    "    Parameters:\n",
    "    -----------\n",
    "    debug: Optional bool to skip latent space vectors that produce infinities.\n",
    "    Currently set to true as it seems only 2 specific cases are affected\n",
    "    \"\"\"\n",
    "    dat_encoded = np.array(encoder.predict(data))[0] # This outputs shape (3, len(X_test), 3). Can't find satisfactory explanation for this behavior. (len(X_test), 3) makes sense. (3, len, 3) does not\n",
    "    # Kenny only uses the first list so we'll follow that convention.\n",
    "    # has shape (len(data), 3), where col 1 is z_mean, 2 is z_log_var and z. This is by design of encoder.\n",
    "    scores = np.zeros(len(data))\n",
    "    for i in range(len(scores)):\n",
    "        z_mean, z_log_var = dat_encoded[i][0], dat_encoded[i][1]\n",
    "        scores[i] = AD_metric(z_mean, z_log_var)\n",
    "    \n",
    "    return scores"
   ]
  },
  {
   "cell_type": "code",
   "execution_count": 9,
   "id": "47c2d5bd",
   "metadata": {},
   "outputs": [
    {
     "name": "stderr",
     "output_type": "stream",
     "text": [
      "2025-07-21 13:12:29.354304: I tensorflow/core/common_runtime/gpu/gpu_device.cc:1635] Created device /job:localhost/replica:0/task:0/device:GPU:0 with 38366 MB memory:  -> device: 0, name: NVIDIA A100-SXM4-40GB, pci bus id: 0000:03:00.0, compute capability: 8.0\n",
      "2025-07-21 13:12:29.355923: I tensorflow/core/common_runtime/gpu/gpu_device.cc:1635] Created device /job:localhost/replica:0/task:0/device:GPU:1 with 865 MB memory:  -> device: 1, name: NVIDIA A100-SXM4-40GB, pci bus id: 0000:41:00.0, compute capability: 8.0\n",
      "2025-07-21 13:12:29.358563: I tensorflow/core/common_runtime/gpu/gpu_device.cc:1635] Created device /job:localhost/replica:0/task:0/device:GPU:2 with 38366 MB memory:  -> device: 2, name: NVIDIA A100-SXM4-40GB, pci bus id: 0000:82:00.0, compute capability: 8.0\n",
      "2025-07-21 13:12:29.360214: I tensorflow/core/common_runtime/gpu/gpu_device.cc:1635] Created device /job:localhost/replica:0/task:0/device:GPU:3 with 38366 MB memory:  -> device: 3, name: NVIDIA A100-SXM4-40GB, pci bus id: 0000:c1:00.0, compute capability: 8.0\n"
     ]
    }
   ],
   "source": [
    "new_enc = Qmake_encoder_set_weights(INPUT_SZ, H1_SZ, H2_SZ, LATENT_SZ)\n",
    "new_dec = Qmake_decoder_set_weights(INPUT_SZ, H1_SZ, H2_SZ, LATENT_SZ)\n",
    "new_VAE = NNmodel(new_enc, new_dec)\n",
    "save_path = SAVE_PATH + f\"n_{8}/\" # 16 is the interesting one DKL, 8 is the one for CKL\n",
    "\n",
    "new_VAE.load_weights(save_path)\n",
    "\n",
    "just_enc = new_VAE.get_layer(\"encoder\") # We only need encoder output\n"
   ]
  },
  {
   "cell_type": "code",
   "execution_count": 10,
   "id": "182753ee",
   "metadata": {},
   "outputs": [
    {
     "name": "stdout",
     "output_type": "stream",
     "text": [
      "   78/10642 [..............................] - ETA: 6s   "
     ]
    },
    {
     "name": "stderr",
     "output_type": "stream",
     "text": [
      "2025-07-21 13:12:57.930685: I tensorflow/compiler/xla/stream_executor/cuda/cuda_blas.cc:637] TensorFloat-32 will be used for the matrix multiplication. This will only be logged once.\n"
     ]
    },
    {
     "name": "stdout",
     "output_type": "stream",
     "text": [
      "10642/10642 [==============================] - 7s 654us/step\n",
      "1750/1750 [==============================] - 1s 631us/step\n",
      "23759/23759 [==============================] - 15s 638us/step\n",
      "21603/21603 [==============================] - 14s 653us/step\n",
      "100000/100000 [==============================] - 63s 634us/step\n",
      "25000/25000 [==============================] - 16s 638us/step\n"
     ]
    },
    {
     "data": {
      "text/plain": [
       "(0.0, 1000.0)"
      ]
     },
     "execution_count": 10,
     "metadata": {},
     "output_type": "execute_result"
    },
    {
     "data": {
      "image/png": "[encoded data removed]",
      "text/plain": [
       "<Figure size 640x480 with 1 Axes>"
      ]
     },
     "metadata": {},
     "output_type": "display_data"
    }
   ],
   "source": [
    "\n",
    "data = [leptoquark_data, Ato4l_data, hChToTauNu_data, hToTauTau_data\n",
    "               , X_train\n",
    "               , X_test\n",
    "               ]\n",
    "data_names_tex = [ # latex version\n",
    "                \"Leptoquark\"\n",
    "                , \"$A\\\\rightarrow 4\\ell$\"\n",
    "                , \"$h^{\\pm}\\\\rightarrow\\\\tau \\\\nu$\"\n",
    "                , \"$h^0\\\\rightarrow\\\\tau\\\\tau$\"\n",
    "                , \"Training Set (BG)\" # Background\n",
    "                , \"Test Set (BG)\" # Background\n",
    "                ]\n",
    "\n",
    "anomaly_scores = []\n",
    "for data in data:\n",
    "    s = calc_anomaly_dist(data, just_enc, AD_score_CKL)\n",
    "    anomaly_scores.append(s)\n"
   ]
  },
  {
   "cell_type": "code",
   "execution_count": 52,
   "id": "b1ce9b3b",
   "metadata": {},
   "outputs": [
    {
     "data": {
      "text/plain": [
       "Text(0.5, 1.0, 'Anomaly Score Distrubtion Across Datasets')"
      ]
     },
     "execution_count": 52,
     "metadata": {},
     "output_type": "execute_result"
    },
    {
     "data": {
      "image/png": "[encoded data removed]",
      "text/plain": [
       "<Figure size 640x480 with 1 Axes>"
      ]
     },
     "metadata": {},
     "output_type": "display_data"
    }
   ],
   "source": [
    "# This settings make CKL curves very visible\n",
    "bin_n = 125\n",
    "xlims = (0, 40)\n",
    "ylims = (0, 0.01)\n",
    "bins  = np.linspace(0, xlims[1], bin_n)\n",
    "xlabel = \"Clipped KL\"\n",
    "\n",
    "for i in range(len(data_names_tex)):\n",
    "    dat = anomaly_scores[i]\n",
    "    # print(bin_n)\n",
    "    plt.hist(dat\n",
    "             , bins = bins\n",
    "             , label=data_names_tex[i] # + \" \" + str(bin_n)\n",
    "             , histtype = \"step\"\n",
    "             , density=True\n",
    "             )\n",
    "plt.legend(loc=\"upper right\")\n",
    "# plt.loglog()\n",
    "# plt.semilogy()\n",
    "# plt.semilogx()\n",
    "plt.xlabel(xlabel)\n",
    "plt.ylabel(\"Density\")\n",
    "plt.grid()\n",
    "plt.ylim(ylims)\n",
    "plt.xlim(xlims)\n",
    "plt.title(\"Anomaly Score Distrubtion Across Datasets\")"
   ]
  },
  {
   "cell_type": "code",
   "execution_count": null,
   "id": "91d9f9ae",
   "metadata": {},
   "outputs": [],
   "source": []
  },
  {
   "cell_type": "code",
   "execution_count": null,
   "id": "0b5bdb99",
   "metadata": {},
   "outputs": [],
   "source": []
  }
 ],
 "metadata": {
  "kernelspec": {
   "display_name": "Python 3 (ipykernel)",
   "language": "python",
   "name": "python3"
  },
  "language_info": {
   "codemirror_mode": {
    "name": "ipython",
    "version": 3
   },
   "file_extension": ".py",
   "mimetype": "text/x-python",
   "name": "python",
   "nbconvert_exporter": "python",
   "pygments_lexer": "ipython3",
   "version": "3.9.19"
  }
 },
 "nbformat": 4,
 "nbformat_minor": 5
}
